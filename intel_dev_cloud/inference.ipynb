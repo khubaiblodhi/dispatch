{
 "cells": [
  {
   "cell_type": "code",
   "execution_count": 1,
   "metadata": {},
   "outputs": [],
   "source": [
    "import intel_extension_for_pytorch as ipex\n",
    "import torch\n",
    "from peft import PeftModel, PeftConfig\n",
    "from transformers import AutoModelForCausalLM\n",
    "from transformers import AutoTokenizer"
   ]
  },
  {
   "cell_type": "code",
   "execution_count": 2,
   "metadata": {},
   "outputs": [
    {
     "data": {
      "application/vnd.jupyter.widget-view+json": {
       "model_id": "8c2939d56d3e4cd0b269098465eb0d9d",
       "version_major": 2,
       "version_minor": 0
      },
      "text/plain": [
       "Loading checkpoint shards:   0%|          | 0/2 [00:00<?, ?it/s]"
      ]
     },
     "metadata": {},
     "output_type": "display_data"
    }
   ],
   "source": [
    "model = AutoModelForCausalLM.from_pretrained(\"mistralai/Mistral-7B-v0.1\")\n",
    "model.load_adapter(\"spikecodes/ai-911-operator\")\n",
    "tokenizer = AutoTokenizer.from_pretrained(\"mistralai/Mistral-7B-v0.1\")"
   ]
  },
  {
   "cell_type": "code",
   "execution_count": 3,
   "metadata": {},
   "outputs": [],
   "source": [
    "inputs = tokenizer(\"911 Operator: 9-1-1, what's your emergency?\\nCaller: There's a fire in my kitchen!\\n911 Operator:\", return_tensors=\"pt\")\n",
    "outputs = model.generate(input_ids=inputs[\"input_ids\"], pad_token_id=128001,\n",
    "            eos_token_id=128001, max_new_tokens=50)"
   ]
  },
  {
   "cell_type": "code",
   "execution_count": 4,
   "metadata": {},
   "outputs": [
    {
     "name": "stdout",
     "output_type": "stream",
     "text": [
      "911 Operator: 9-1-1, what's your emergency?\n",
      "Caller: There's a fire in my kitchen!\n",
      "911 Operator: Where are you?\n",
      "Caller: I'm at 1234 Main Street.\n",
      "911 Operator: What's your name?\n",
      "Caller: My name is John Smith.\n",
      "911 Operator:\n"
     ]
    }
   ],
   "source": [
    "print(tokenizer.decode(outputs[0], skip_special_tokens=True))"
   ]
  },
  {
   "cell_type": "code",
   "execution_count": null,
   "metadata": {},
   "outputs": [],
   "source": [
    "qconfig = ipex.quantization.get_weight_only_quant_qconfig_mapping(\n",
    "  weight_dtype=ipex.quantization.WoqWeightDtype.INT8, # or INT4/NF4\n",
    "  lowp_mode=ipex.quantization.WoqLowpMode.NONE, # or FP16, BF16, INT8\n",
    ")\n",
    "model_ipex = ipex.llm.optimize(model.eval() , quantization_config=qconfig)"
   ]
  },
  {
   "cell_type": "code",
   "execution_count": 12,
   "metadata": {},
   "outputs": [
    {
     "name": "stdout",
     "output_type": "stream",
     "text": [
      "911 Operator: 9-1-1, what's your emergency?\n",
      "Caller: There's a fire in my kitchen!\n",
      "911 Operator: Where are you?\n",
      "Caller: I'm at 1234 Main Street.\n",
      "911 Operator: What's your name?\n",
      "Caller: My name is John Smith.\n",
      "911 Operator:\n"
     ]
    }
   ],
   "source": [
    "inputs = tokenizer(\"911 Operator: 9-1-1, what's your emergency?\\nCaller: There's a fire in my kitchen!\\n911 Operator:\", return_tensors=\"pt\")\n",
    "with torch.inference_mode():\n",
    "    outputs = model_ipex.generate(input_ids=inputs[\"input_ids\"], pad_token_id=128001,\n",
    "            eos_token_id=128001, max_new_tokens=50)\n",
    "\n",
    "print(tokenizer.decode(outputs[0], skip_special_tokens=True))"
   ]
  }
 ],
 "metadata": {
  "kernelspec": {
   "display_name": "Python 3",
   "language": "python",
   "name": "python3"
  },
  "language_info": {
   "codemirror_mode": {
    "name": "ipython",
    "version": 3
   },
   "file_extension": ".py",
   "mimetype": "text/x-python",
   "name": "python",
   "nbconvert_exporter": "python",
   "pygments_lexer": "ipython3",
   "version": "3.10.2"
  }
 },
 "nbformat": 4,
 "nbformat_minor": 2
}
